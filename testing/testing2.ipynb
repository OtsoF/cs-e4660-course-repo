{
 "cells": [
  {
   "cell_type": "code",
   "execution_count": 1,
   "metadata": {},
   "outputs": [],
   "source": [
    "import numpy as np\n",
    "import pandas as pd\n",
    "\n",
    "from sklearn.model_selection import train_test_split\n",
    "from sklearn.ensemble import RandomForestClassifier\n",
    "from sklearn.metrics import accuracy_score\n",
    "from sklearn.metrics import classification_report\n"
   ]
  },
  {
   "cell_type": "code",
   "execution_count": 2,
   "metadata": {},
   "outputs": [
    {
     "data": {
      "text/plain": [
       "(594970, 7)"
      ]
     },
     "execution_count": 2,
     "metadata": {},
     "output_type": "execute_result"
    }
   ],
   "source": [
    "\n",
    "dfx = pd.read_csv('AutoInsuranceClaim.csv')\n",
    "\n",
    "all_used_cols =  ['id', 'target', 'ps_ind_01', 'ps_ind_02_cat', 'ps_ind_03',\n",
    "       'ps_ind_04_cat', 'ps_ind_05_cat', 'ps_ind_14', 'ps_ind_15',\n",
    "       'ps_car_01_cat', 'ps_car_02_cat','ps_car_03_cat', 'ps_car_06_cat']\n",
    "\n",
    "used = ['id', 'ps_ind_02_cat', 'ps_ind_01', 'ps_ind_03', 'ps_ind_15',\n",
    "      'ps_car_01_cat', 'ps_car_06_cat']\n",
    "\n",
    "dfx = dfx[used]\n",
    "\n",
    "dfx = dfx.dropna()\n",
    "\n",
    "dfx.shape"
   ]
  },
  {
   "cell_type": "code",
   "execution_count": 22,
   "metadata": {},
   "outputs": [
    {
     "name": "stdout",
     "output_type": "stream",
     "text": [
      "Trained model with accuracy : 0.7310\n",
      "accuracy_new_data:  0.726925\n"
     ]
    }
   ],
   "source": [
    "df = dfx.head(100000) # 0.7310\n",
    "\n",
    "df2 = dfx[100000:300000]\n",
    "\n",
    "X = df.drop(['ps_ind_02_cat', 'id'], axis=1)\n",
    "y = df['ps_ind_02_cat']\n",
    "\n",
    "X_train, X_test, y_train, y_test = train_test_split(X, y, test_size = 0.2, random_state = 42)\n",
    "\n",
    "\n",
    "model = RandomForestClassifier(n_estimators=100, random_state=0)\n",
    "model.fit(X_train, y_train)\n",
    "model_accuracy = accuracy_score(y_test, model.predict(X_test))\n",
    "print(\"Trained model with accuracy : {0:0.4f}\".format(model_accuracy))\n",
    "\n",
    "print(\"accuracy_new_data: \", accuracy_score(df2['ps_ind_02_cat'], model.predict(df2.drop(['ps_ind_02_cat', 'id'], axis=1))))"
   ]
  },
  {
   "cell_type": "code",
   "execution_count": 57,
   "metadata": {},
   "outputs": [
    {
     "name": "stdout",
     "output_type": "stream",
     "text": [
      "Training model...\n",
      "Trained model with accuracy : 0.7387\n",
      "              precision    recall  f1-score   support\n",
      "\n",
      "         1.0       0.79      0.90      0.84     27097\n",
      "         2.0       0.45      0.30      0.36      6011\n",
      "         3.0       0.11      0.04      0.06      1749\n",
      "         4.0       0.22      0.10      0.14       830\n",
      "\n",
      "    accuracy                           0.74     35687\n",
      "   macro avg       0.40      0.33      0.35     35687\n",
      "weighted avg       0.69      0.74      0.71     35687\n",
      "\n"
     ]
    }
   ],
   "source": [
    "\n",
    "df = dfx#.head(10)\n",
    "col_names = ['ps_ind_01', 'ps_ind_02_cat', 'ps_ind_03',\n",
    "      'ps_ind_04_cat', 'ps_ind_05_cat', 'ps_ind_14', 'ps_ind_15',\n",
    "      'ps_car_01_cat', 'ps_car_02_cat','ps_car_03_cat', 'ps_car_06_cat']\n",
    "\n",
    "cc = ['ps_ind_01', 'ps_ind_03',\n",
    "      'ps_ind_04_cat', 'ps_ind_05_cat', 'ps_ind_14', 'ps_ind_15',\n",
    "      'ps_car_01_cat', 'ps_car_02_cat','ps_car_03_cat', 'ps_car_06_cat']\n",
    "\n",
    "col_names2 = ['ps_ind_01', 'ps_ind_03', 'ps_ind_15',\n",
    "      'ps_car_01_cat', 'ps_car_06_cat']\n",
    "\n",
    "X = df[cc]\n",
    "y = df['ps_ind_02_cat']\n",
    "\n",
    "X_train, X_test, y_train, y_test = train_test_split(X, y, test_size = 0.2, random_state = 42)\n",
    "\n",
    "model = RandomForestClassifier(n_estimators=100, random_state=0)\n",
    "\n",
    "print(\"Training model...\")\n",
    "model.fit(X_train, y_train)\n",
    "\n",
    "pred = model.predict(X_test)\n",
    "\n",
    "print(\"Trained model with accuracy : {0:0.4f}\".format(accuracy_score(y_test, pred)))\n",
    "\n",
    "print(classification_report(y_test, pred))\n"
   ]
  },
  {
   "cell_type": "code",
   "execution_count": 45,
   "metadata": {},
   "outputs": [
    {
     "data": {
      "text/plain": [
       "ps_ind_15        0.219136\n",
       "ps_ind_03        0.217748\n",
       "ps_car_06_cat    0.213393\n",
       "ps_ind_01        0.132126\n",
       "ps_car_01_cat    0.108143\n",
       "ps_ind_04_cat    0.032790\n",
       "ps_car_03_cat    0.024442\n",
       "ps_ind_05_cat    0.023614\n",
       "ps_car_02_cat    0.014631\n",
       "ps_ind_14        0.013977\n",
       "dtype: float64"
      ]
     },
     "execution_count": 45,
     "metadata": {},
     "output_type": "execute_result"
    }
   ],
   "source": [
    "feature_scores = pd.Series(model.feature_importances_, index=X_train.columns).sort_values(ascending=False)\n",
    "\n",
    "feature_scores"
   ]
  }
 ],
 "metadata": {
  "kernelspec": {
   "display_name": ".venv",
   "language": "python",
   "name": "python3"
  },
  "language_info": {
   "codemirror_mode": {
    "name": "ipython",
    "version": 3
   },
   "file_extension": ".py",
   "mimetype": "text/x-python",
   "name": "python",
   "nbconvert_exporter": "python",
   "pygments_lexer": "ipython3",
   "version": "3.11.4"
  }
 },
 "nbformat": 4,
 "nbformat_minor": 2
}
